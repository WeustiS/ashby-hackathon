{
 "cells": [
  {
   "cell_type": "code",
   "execution_count": 4,
   "id": "151d7bd6-7942-48dd-a2b8-a8be319ce515",
   "metadata": {},
   "outputs": [],
   "source": [
    "#import matplotlib.pyplot as plt\n",
    "import glob"
   ]
  },
  {
   "cell_type": "code",
   "execution_count": 2,
   "id": "78bc633c-a74e-491c-ad98-9e3af9548072",
   "metadata": {},
   "outputs": [],
   "source": [
    "path = r'/home/jcurtis2/hackathon_data/'"
   ]
  },
  {
   "cell_type": "code",
   "execution_count": 6,
   "id": "795005df-77a1-4d78-a31c-b8f872d645d3",
   "metadata": {},
   "outputs": [
    {
     "name": "stdout",
     "output_type": "stream",
     "text": [
      "/home/jcurtis2/hackathon_data/example_notebook.ipynb\n",
      "/home/jcurtis2/hackathon_data/evaluation.nc\n",
      "/home/jcurtis2/hackathon_data/training.nc\n",
      "/home/jcurtis2/hackathon_data/x_gases.txt\n",
      "/home/jcurtis2/hackathon_data/x_aerosols.txt\n"
     ]
    }
   ],
   "source": [
    "for file in glob.glob(path + \"*\"):\n",
    "    print(file)"
   ]
  },
  {
   "cell_type": "code",
   "execution_count": 7,
   "id": "f1202627-1b2d-4e7a-89fa-cc32043bc4cb",
   "metadata": {},
   "outputs": [
    {
     "data": {
      "text/plain": [
       "'/home/weustis/hackathons/ashby-hackathon'"
      ]
     },
     "execution_count": 7,
     "metadata": {},
     "output_type": "execute_result"
    }
   ],
   "source": [
    "pwd"
   ]
  },
  {
   "cell_type": "code",
   "execution_count": null,
   "id": "b4820784-75f6-458b-bbc0-1dd0d72b2d3e",
   "metadata": {},
   "outputs": [],
   "source": []
  }
 ],
 "metadata": {
  "kernelspec": {
   "display_name": "Python [conda env:.conda-ashby]",
   "language": "python",
   "name": "conda-env-.conda-ashby-py"
  },
  "language_info": {
   "codemirror_mode": {
    "name": "ipython",
    "version": 3
   },
   "file_extension": ".py",
   "mimetype": "text/x-python",
   "name": "python",
   "nbconvert_exporter": "python",
   "pygments_lexer": "ipython3",
   "version": "3.9.12"
  }
 },
 "nbformat": 4,
 "nbformat_minor": 5
}
